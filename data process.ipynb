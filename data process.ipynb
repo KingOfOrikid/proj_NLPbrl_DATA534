{
 "cells": [
  {
   "cell_type": "code",
   "execution_count": null,
   "id": "2ffff649",
   "metadata": {},
   "outputs": [],
   "source": [
    "def cal_frequency(text, api_data_class, stop_word='default'):\n",
    "    #determine language\n",
    "    if stop_word == 'default':\n",
    "        lang = api_data_class.get_lang(text)\n",
    "        if lang == 'zho':\n",
    "            stop_word = 'pacakge_data/cn_stopwords.txt'\n",
    "        elif lang == 'eng':\n",
    "            stop_word = 'pacakge_data/en_stopwords.txt'\n",
    "        else:\n",
    "            stop_word = 'pacakge_data/other_stopwords.txt'\n",
    "\n",
    "    try:\n",
    "        stop_file = open(stop_word, 'r', encoding='utf-8')\n",
    "        stopwords = stop_file.read().split(\"\\n\")\n",
    "        stop_file.close()\n",
    "    except:\n",
    "        print('{} is not exist, please check the file!'.format(stop_word))\n",
    "\n",
    "    #check the characters limit (need a function)\n",
    "    text_lst = check_limit(text)\n",
    "    text_token = []\n",
    "    for t in text_lst:\n",
    "        text_token.expend(api_data_class.get_token(t))\n",
    "\n",
    "    washed_token = []\n",
    "    for char in text_token:\n",
    "        if char in stopwords:\n",
    "            pass\n",
    "        else:\n",
    "            wasked_token.append(char)\n",
    "\n",
    "    counts = {}\n",
    "    for word in washed_token:\n",
    "        counts[word] = counts.get(word, 0) + 1\n",
    "\n",
    "    counts = sorted(counts.items(), key=lambda x: x[1], reverse=True)\n",
    "    return counts"
   ]
  }
 ],
 "metadata": {
  "kernelspec": {
   "display_name": "Python 3 (ipykernel)",
   "language": "python",
   "name": "python3"
  },
  "language_info": {
   "codemirror_mode": {
    "name": "ipython",
    "version": 3
   },
   "file_extension": ".py",
   "mimetype": "text/x-python",
   "name": "python",
   "nbconvert_exporter": "python",
   "pygments_lexer": "ipython3",
   "version": "3.9.7"
  }
 },
 "nbformat": 4,
 "nbformat_minor": 5
}
