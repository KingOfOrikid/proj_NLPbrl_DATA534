{
 "cells": [
  {
   "cell_type": "code",
   "execution_count": 1,
   "id": "7dcc92d2",
   "metadata": {},
   "outputs": [],
   "source": [
    "from NLPbrl import NLP_"
   ]
  },
  {
   "cell_type": "code",
   "execution_count": 2,
   "id": "cbc34889",
   "metadata": {},
   "outputs": [],
   "source": [
    "nlp = NLP_.NLP()"
   ]
  },
  {
   "cell_type": "code",
   "execution_count": 3,
   "id": "7cf83d0d",
   "metadata": {},
   "outputs": [],
   "source": [
    "short_text_en = \"simple test of calculate frequency.\"\n",
    "long_text_en = \"The goal of the package is to wrap into a set of R/Python functions a web REST API and offer a package for others to use those functions. The functions offered by the package should also take care of the minimum wrangling necessary to output the data in a viable format (that is, not as a raw binary file, unless a raw binary file is the most appropriate data format). You choose the API and the most appropriate input / output design of your functions. Think carefully of what part of the wrangling is of general interest (i.e., most or all of the users will want to perform it, and thus should be done in the package) and what part is only relevant as an example for the vignette (i.e., is too specific to be of general interest, and thus may just end up in the vignette.)\"*20\n",
    "tf_idf_corpus = [\"The cat sat on my bed\",\n",
    "                 \"The dog sat on my knees\"]\n",
    "tf_idf_text = \"The dog sat on my knees\"\n",
    "simi_text1 = 'I am eating an apple'\n",
    "simi_text2 = 'She is eating an apple'\n",
    "rela_text = \"\"\"Other than the Powell speech, the annual address to Congress from President Joe Biden and fallout from the Chinese incursion into U.S. airspace, there is little in the week’s economic data to move markets. Perhaps the most interesting report will come Friday with the University of Michigan’s consumer sentiment preliminary estimate for February. A slew of companies, including some large retailers and travel companies, report earnings this week as the S&P earnings season enters the second half of its quarterly cycle. Although last week saw a report on personal spending that suggested consumers could be retrenching, the strong jobs number coupled with a moderation in wage inflation implies the resilient U.S. economy may still have some life left in it. \"With the release of this extraordinary employment report, the danger is the Federal Reserve may feel pressure to become far more aggressive and ratchet up interest rates until it chokes off the demand for workers,\" Bernard Baumohl, chief global economist at The Economic Outlook Group, wrote on Friday.\"\"\"\n",
    "cate_text = \"Sony Pictures is planning to shoot a good portion of the new \\\"Ghostbusters\\\" in Boston as well.\""
   ]
  },
  {
   "cell_type": "code",
   "execution_count": 4,
   "id": "8bff8452",
   "metadata": {
    "scrolled": true
   },
   "outputs": [
    {
     "data": {
      "text/plain": [
       "[('package', 80),\n",
       " ('functions', 80),\n",
       " ('The', 40),\n",
       " ('API', 40),\n",
       " ('wrangling', 40),\n",
       " ('output', 40),\n",
       " ('data', 40),\n",
       " ('format', 40),\n",
       " ('raw', 40),\n",
       " ('binary', 40),\n",
       " ('file', 40),\n",
       " ('i.e.', 40),\n",
       " ('vignette', 40),\n",
       " ('goal', 20),\n",
       " ('wrap', 20),\n",
       " ('set', 20),\n",
       " ('R', 20),\n",
       " ('Python', 20),\n",
       " ('web', 20),\n",
       " ('REST', 20),\n",
       " ('offer', 20),\n",
       " ('offered', 20),\n",
       " ('care', 20),\n",
       " ('minimum', 20),\n",
       " ('viable', 20),\n",
       " ('You', 20),\n",
       " ('choose', 20),\n",
       " ('input', 20),\n",
       " ('design', 20),\n",
       " ('Think', 20),\n",
       " ('carefully', 20),\n",
       " ('users', 20),\n",
       " ('perform', 20),\n",
       " ('relevant', 20),\n",
       " ('specific', 20)]"
      ]
     },
     "execution_count": 4,
     "metadata": {},
     "output_type": "execute_result"
    }
   ],
   "source": [
    "#cal_frequency\n",
    "#parameter: text - input text\n",
    "#           stop_word - stop_word file location, default 'default'\n",
    "nlp.cal_frequency(long_text_en, 'default')"
   ]
  },
  {
   "cell_type": "code",
   "execution_count": 4,
   "id": "857c25c8",
   "metadata": {},
   "outputs": [
    {
     "data": {
      "text/plain": [
       "True"
      ]
     },
     "execution_count": 4,
     "metadata": {},
     "output_type": "execute_result"
    }
   ],
   "source": [
    "#word_viz\n",
    "#parameter: text - input text\n",
    "#           file_loc - the location to save chart\n",
    "#           top_num - the number of words to show\n",
    "#           stop_word -  stop_word file location, default 'default'\n",
    "#           cloud_set - WordCloud set\n",
    "nlp.word_viz(long_text_en, '', 25)"
   ]
  },
  {
   "cell_type": "code",
   "execution_count": 6,
   "id": "ebfa2d50",
   "metadata": {},
   "outputs": [
    {
     "data": {
      "text/plain": [
       "{'dog': 0.04402281476392031,\n",
       " 'bed': 0.0,\n",
       " 'knees': 0.04402281476392031,\n",
       " 'The': 0.0,\n",
       " 'sat': 0.0,\n",
       " 'cat': 0.0}"
      ]
     },
     "execution_count": 6,
     "metadata": {},
     "output_type": "execute_result"
    }
   ],
   "source": [
    "#key_extra_tfidf\n",
    "#parameter: text - input text\n",
    "#           document - corpus list\n",
    "#           stop_word -  stop_word file location, default 'default'\n",
    "nlp.key_extra_tfidf(tf_idf_text, tf_idf_corpus)"
   ]
  },
  {
   "cell_type": "code",
   "execution_count": 7,
   "id": "101484fc",
   "metadata": {},
   "outputs": [
    {
     "data": {
      "text/plain": [
       "0.9188851939644076"
      ]
     },
     "execution_count": 7,
     "metadata": {},
     "output_type": "execute_result"
    }
   ],
   "source": [
    "#cal_simi\n",
    "#parameter: text1 - input text1\n",
    "#           text2 - input text2\n",
    "#           size - the embedding format(word or sentence)\n",
    "#           method - the method of calculating distance (euc - euclidean metric, \n",
    "#                                                        cos - cosine distance, \n",
    "#                                                        jac - jaccard similarity)\n",
    "nlp.cal_simi(simi_text1, simi_text2, 'sen', 'cos')"
   ]
  },
  {
   "cell_type": "code",
   "execution_count": 8,
   "id": "91a808f0",
   "metadata": {},
   "outputs": [
    {
     "data": {
      "text/plain": [
       "[('cameras', 1.8156458333333334),\n",
       " ('contract', 1.784213541666667),\n",
       " ('settled', 1.1478645833333332),\n",
       " ('government', 1.1336979166666667),\n",
       " ('produces', 1.1252864583333335)]"
      ]
     },
     "execution_count": 8,
     "metadata": {},
     "output_type": "execute_result"
    }
   ],
   "source": [
    "#cal_textRank\n",
    "#parameter: text - input text\n",
    "#           candidate_pos - the kinds of candidate pos you want to keep\n",
    "#           top_k - top k keywords\n",
    "#           window_size - window size of text rank\n",
    "#           stop_word -  stop_word file location, default 'default'\n",
    "nlp.cal_textRank(rela_text, candidate_pos=['NOUN', 'VERB'], top_k=5)"
   ]
  },
  {
   "cell_type": "code",
   "execution_count": 7,
   "id": "68379cee",
   "metadata": {},
   "outputs": [
    {
     "data": {
      "text/plain": [
       "True"
      ]
     },
     "execution_count": 7,
     "metadata": {},
     "output_type": "execute_result"
    }
   ],
   "source": [
    "#relation_viz\n",
    "#parameter: text - input text\n",
    "nlp.relation_viz(rela_text)"
   ]
  },
  {
   "cell_type": "code",
   "execution_count": 4,
   "id": "687d1d17",
   "metadata": {},
   "outputs": [
    {
     "data": {
      "text/plain": [
       "['ARTS_AND_ENTERTAINMENT', 'SPORTS', 'TRAVEL']"
      ]
     },
     "execution_count": 4,
     "metadata": {},
     "output_type": "execute_result"
    }
   ],
   "source": [
    "#cal_classification\n",
    "#parameter: text - input text\n",
    "#           top_k - top k categoies\n",
    "nlp.cal_classification(cate_text)"
   ]
  }
 ],
 "metadata": {
  "kernelspec": {
   "display_name": "Python 3 (ipykernel)",
   "language": "python",
   "name": "python3"
  },
  "language_info": {
   "codemirror_mode": {
    "name": "ipython",
    "version": 3
   },
   "file_extension": ".py",
   "mimetype": "text/x-python",
   "name": "python",
   "nbconvert_exporter": "python",
   "pygments_lexer": "ipython3",
   "version": "3.9.7"
  }
 },
 "nbformat": 4,
 "nbformat_minor": 5
}
